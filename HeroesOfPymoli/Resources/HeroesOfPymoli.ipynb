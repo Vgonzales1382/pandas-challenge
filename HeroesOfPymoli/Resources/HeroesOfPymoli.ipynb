{
 "cells": [
  {
   "cell_type": "code",
   "execution_count": 8,
   "id": "511cd412-e779-4b20-bdbd-8c4282e1c7f4",
   "metadata": {},
   "outputs": [],
   "source": [
    "import pandas as pd\n",
    "import numpy as np\n"
   ]
  },
  {
   "cell_type": "code",
   "execution_count": 9,
   "id": "f444932c-0318-47bf-8e80-6a052786c4bc",
   "metadata": {},
   "outputs": [
    {
     "data": {
      "text/html": [
       "<div>\n",
       "<style scoped>\n",
       "    .dataframe tbody tr th:only-of-type {\n",
       "        vertical-align: middle;\n",
       "    }\n",
       "\n",
       "    .dataframe tbody tr th {\n",
       "        vertical-align: top;\n",
       "    }\n",
       "\n",
       "    .dataframe thead th {\n",
       "        text-align: right;\n",
       "    }\n",
       "</style>\n",
       "<table border=\"1\" class=\"dataframe\">\n",
       "  <thead>\n",
       "    <tr style=\"text-align: right;\">\n",
       "      <th></th>\n",
       "      <th>Purchase ID</th>\n",
       "      <th>SN</th>\n",
       "      <th>Age</th>\n",
       "      <th>Gender</th>\n",
       "      <th>Item ID</th>\n",
       "      <th>Item Name</th>\n",
       "      <th>Price</th>\n",
       "    </tr>\n",
       "  </thead>\n",
       "  <tbody>\n",
       "    <tr>\n",
       "      <th>0</th>\n",
       "      <td>0</td>\n",
       "      <td>Lisim78</td>\n",
       "      <td>20</td>\n",
       "      <td>Male</td>\n",
       "      <td>108</td>\n",
       "      <td>Extraction, Quickblade Of Trembling Hands</td>\n",
       "      <td>3.53</td>\n",
       "    </tr>\n",
       "    <tr>\n",
       "      <th>1</th>\n",
       "      <td>1</td>\n",
       "      <td>Lisovynya38</td>\n",
       "      <td>40</td>\n",
       "      <td>Male</td>\n",
       "      <td>143</td>\n",
       "      <td>Frenzied Scimitar</td>\n",
       "      <td>1.56</td>\n",
       "    </tr>\n",
       "    <tr>\n",
       "      <th>2</th>\n",
       "      <td>2</td>\n",
       "      <td>Ithergue48</td>\n",
       "      <td>24</td>\n",
       "      <td>Male</td>\n",
       "      <td>92</td>\n",
       "      <td>Final Critic</td>\n",
       "      <td>4.88</td>\n",
       "    </tr>\n",
       "    <tr>\n",
       "      <th>3</th>\n",
       "      <td>3</td>\n",
       "      <td>Chamassasya86</td>\n",
       "      <td>24</td>\n",
       "      <td>Male</td>\n",
       "      <td>100</td>\n",
       "      <td>Blindscythe</td>\n",
       "      <td>3.27</td>\n",
       "    </tr>\n",
       "    <tr>\n",
       "      <th>4</th>\n",
       "      <td>4</td>\n",
       "      <td>Iskosia90</td>\n",
       "      <td>23</td>\n",
       "      <td>Male</td>\n",
       "      <td>131</td>\n",
       "      <td>Fury</td>\n",
       "      <td>1.44</td>\n",
       "    </tr>\n",
       "  </tbody>\n",
       "</table>\n",
       "</div>"
      ],
      "text/plain": [
       "   Purchase ID             SN  Age Gender  Item ID  \\\n",
       "0            0        Lisim78   20   Male      108   \n",
       "1            1    Lisovynya38   40   Male      143   \n",
       "2            2     Ithergue48   24   Male       92   \n",
       "3            3  Chamassasya86   24   Male      100   \n",
       "4            4      Iskosia90   23   Male      131   \n",
       "\n",
       "                                   Item Name  Price  \n",
       "0  Extraction, Quickblade Of Trembling Hands   3.53  \n",
       "1                          Frenzied Scimitar   1.56  \n",
       "2                               Final Critic   4.88  \n",
       "3                                Blindscythe   3.27  \n",
       "4                                       Fury   1.44  "
      ]
     },
     "execution_count": 9,
     "metadata": {},
     "output_type": "execute_result"
    }
   ],
   "source": [
    "file_to_load = \"Resources/pymol_data.csv\"\n",
    "\n",
    "pymol_data = pd.read_csv(\"pymol_data.csv\")\n",
    "pymol_data.head()"
   ]
  },
  {
   "cell_type": "code",
   "execution_count": 10,
   "id": "89a9e123-668e-49db-834a-c560328a1760",
   "metadata": {},
   "outputs": [
    {
     "data": {
      "text/html": [
       "<div>\n",
       "<style scoped>\n",
       "    .dataframe tbody tr th:only-of-type {\n",
       "        vertical-align: middle;\n",
       "    }\n",
       "\n",
       "    .dataframe tbody tr th {\n",
       "        vertical-align: top;\n",
       "    }\n",
       "\n",
       "    .dataframe thead th {\n",
       "        text-align: right;\n",
       "    }\n",
       "</style>\n",
       "<table border=\"1\" class=\"dataframe\">\n",
       "  <thead>\n",
       "    <tr style=\"text-align: right;\">\n",
       "      <th></th>\n",
       "      <th>Total Players</th>\n",
       "    </tr>\n",
       "  </thead>\n",
       "  <tbody>\n",
       "    <tr>\n",
       "      <th>0</th>\n",
       "      <td>576</td>\n",
       "    </tr>\n",
       "  </tbody>\n",
       "</table>\n",
       "</div>"
      ],
      "text/plain": [
       "   Total Players\n",
       "0            576"
      ]
     },
     "execution_count": 10,
     "metadata": {},
     "output_type": "execute_result"
    }
   ],
   "source": [
    "# Player Count\n",
    "total_players = pymol_data.SN.nunique()\n",
    "total_players_df = pd.DataFrame({\"Total Players\": [total_players]})\n",
    "total_players_df"
   ]
  },
  {
   "cell_type": "code",
   "execution_count": 11,
   "id": "9a561330-7aa3-4fb5-b137-20ff72817b04",
   "metadata": {},
   "outputs": [
    {
     "data": {
      "text/html": [
       "<style type=\"text/css\">\n",
       "</style>\n",
       "<table id=\"T_95552_\">\n",
       "  <thead>\n",
       "    <tr>\n",
       "      <th class=\"blank level0\" >&nbsp;</th>\n",
       "      <th class=\"col_heading level0 col0\" >Number of Unique Items</th>\n",
       "      <th class=\"col_heading level0 col1\" >Average Price</th>\n",
       "      <th class=\"col_heading level0 col2\" >Number of Purchases</th>\n",
       "      <th class=\"col_heading level0 col3\" >Total Revenue</th>\n",
       "    </tr>\n",
       "  </thead>\n",
       "  <tbody>\n",
       "    <tr>\n",
       "      <th id=\"T_95552_level0_row0\" class=\"row_heading level0 row0\" >0</th>\n",
       "      <td id=\"T_95552_row0_col0\" class=\"data row0 col0\" >179</td>\n",
       "      <td id=\"T_95552_row0_col1\" class=\"data row0 col1\" >$3.05</td>\n",
       "      <td id=\"T_95552_row0_col2\" class=\"data row0 col2\" >780</td>\n",
       "      <td id=\"T_95552_row0_col3\" class=\"data row0 col3\" >$2,379.77</td>\n",
       "    </tr>\n",
       "  </tbody>\n",
       "</table>\n"
      ],
      "text/plain": [
       "<pandas.io.formats.style.Styler at 0x1f829e43280>"
      ]
     },
     "execution_count": 11,
     "metadata": {},
     "output_type": "execute_result"
    }
   ],
   "source": [
    "# Purchase Analysis\n",
    "uni_items = len(pymol_data[\"Item ID\"].value_counts())\n",
    "ave_price = pymol_data[\"Price\"].mean()\n",
    "purchase = pymol_data[\"Purchase ID\"].count()\n",
    "rev_total = pymol_data[\"Price\"].sum()\n",
    "\n",
    "summarydf = pd.DataFrame({\"Number of Unique Items\":[uni_items],\n",
    "                          \"Average Price\":[ave_price],\n",
    "                          \"Number of Purchases\":[purchase],\n",
    "                          \"Total Revenue\":[rev_total]\n",
    "                         })\n",
    "\n",
    "# Formatting\n",
    "summarydf.style.format({\"Average Price\":\"${:.2f}\", \"Total Revenue\": \"${:,.2f}\"})\n",
    "                    \n",
    "                          \n"
   ]
  },
  {
   "cell_type": "code",
   "execution_count": 13,
   "id": "b631c9a5-5738-429e-acb3-320c547ac8a9",
   "metadata": {},
   "outputs": [
    {
     "data": {
      "text/plain": [
       "(576, 2)"
      ]
     },
     "execution_count": 13,
     "metadata": {},
     "output_type": "execute_result"
    }
   ],
   "source": [
    "# Gender Demographics \n",
    "gen_df = pymol_data[[\"SN\", \"Gender\"]]\n",
    "gen_df.shape\n",
    "                     \n",
    "gen_df = gen_df.drop_duplicates()\n",
    "gen_df.shape"
   ]
  },
  {
   "cell_type": "code",
   "execution_count": 15,
   "id": "59ddb237-6c1a-4c5a-82c2-83939922e078",
   "metadata": {},
   "outputs": [],
   "source": [
    "gen_count = gen_df[\"Gender\"].value_counts()\n",
    "per_player = gen_count / total_players"
   ]
  },
  {
   "cell_type": "code",
   "execution_count": 18,
   "id": "c74fc542-c7eb-4bbf-8b14-f583743b506b",
   "metadata": {},
   "outputs": [
    {
     "data": {
      "text/html": [
       "<style type=\"text/css\">\n",
       "</style>\n",
       "<table id=\"T_1f745_\">\n",
       "  <thead>\n",
       "    <tr>\n",
       "      <th class=\"blank level0\" >&nbsp;</th>\n",
       "      <th class=\"col_heading level0 col0\" >Total Number</th>\n",
       "      <th class=\"col_heading level0 col1\" >Percentage of Players</th>\n",
       "    </tr>\n",
       "  </thead>\n",
       "  <tbody>\n",
       "    <tr>\n",
       "      <th id=\"T_1f745_level0_row0\" class=\"row_heading level0 row0\" >Male</th>\n",
       "      <td id=\"T_1f745_row0_col0\" class=\"data row0 col0\" >484</td>\n",
       "      <td id=\"T_1f745_row0_col1\" class=\"data row0 col1\" >84.03%</td>\n",
       "    </tr>\n",
       "    <tr>\n",
       "      <th id=\"T_1f745_level0_row1\" class=\"row_heading level0 row1\" >Female</th>\n",
       "      <td id=\"T_1f745_row1_col0\" class=\"data row1 col0\" >81</td>\n",
       "      <td id=\"T_1f745_row1_col1\" class=\"data row1 col1\" >14.06%</td>\n",
       "    </tr>\n",
       "    <tr>\n",
       "      <th id=\"T_1f745_level0_row2\" class=\"row_heading level0 row2\" >Other / Non-Disclosed</th>\n",
       "      <td id=\"T_1f745_row2_col0\" class=\"data row2 col0\" >11</td>\n",
       "      <td id=\"T_1f745_row2_col1\" class=\"data row2 col1\" >1.91%</td>\n",
       "    </tr>\n",
       "  </tbody>\n",
       "</table>\n"
      ],
      "text/plain": [
       "<pandas.io.formats.style.Styler at 0x1f82d085eb0>"
      ]
     },
     "execution_count": 18,
     "metadata": {},
     "output_type": "execute_result"
    }
   ],
   "source": [
    "demo = pd.DataFrame({\"Total Number\":gen_count,\"Percentage of Players\":per_player})\n",
    "demo.style.format({\"Percentage of Players\":\"{:.2%}\"})"
   ]
  },
  {
   "cell_type": "code",
   "execution_count": null,
   "id": "177e214e-680b-49e6-b36b-7e99a55b3f9e",
   "metadata": {},
   "outputs": [],
   "source": []
  }
 ],
 "metadata": {
  "kernelspec": {
   "display_name": "Python 3 (ipykernel)",
   "language": "python",
   "name": "python3"
  },
  "language_info": {
   "codemirror_mode": {
    "name": "ipython",
    "version": 3
   },
   "file_extension": ".py",
   "mimetype": "text/x-python",
   "name": "python",
   "nbconvert_exporter": "python",
   "pygments_lexer": "ipython3",
   "version": "3.9.7"
  }
 },
 "nbformat": 4,
 "nbformat_minor": 5
}
