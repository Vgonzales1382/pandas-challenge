{
 "cells": [
  {
   "cell_type": "code",
   "execution_count": 1,
   "id": "d2765441-d18f-4911-b91f-1a9208e93943",
   "metadata": {},
   "outputs": [],
   "source": [
    "import pandas as pd\n",
    "import numpy as np\n"
   ]
  },
  {
   "cell_type": "code",
   "execution_count": null,
   "id": "159a8e87-211a-422d-b2e7-a55b57b74b19",
   "metadata": {},
   "outputs": [],
   "source": [
    "load_file = \"Resources/pymol_data.csv\"\n",
    "pymol_data ="
   ]
  }
 ],
 "metadata": {
  "kernelspec": {
   "display_name": "Python 3 (ipykernel)",
   "language": "python",
   "name": "python3"
  },
  "language_info": {
   "codemirror_mode": {
    "name": "ipython",
    "version": 3
   },
   "file_extension": ".py",
   "mimetype": "text/x-python",
   "name": "python",
   "nbconvert_exporter": "python",
   "pygments_lexer": "ipython3",
   "version": "3.9.7"
  }
 },
 "nbformat": 4,
 "nbformat_minor": 5
}
